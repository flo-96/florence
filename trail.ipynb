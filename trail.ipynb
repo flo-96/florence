{
 "cells": [
  {
   "cell_type": "code",
   "execution_count": 1,
   "metadata": {},
   "outputs": [
    {
     "name": "stdout",
     "output_type": "stream",
     "text": [
      "Hi from Jupyter notebook\n"
     ]
    }
   ],
   "source": [
    "print(\"Hi from Jupyter notebook\")"
   ]
  }
 ],
 "metadata": {
  "kernelspec": {
   "display_name": "env1",
   "language": "python",
   "name": "python3"
  },
  "language_info": {
   "codemirror_mode": {
    "name": "ipython",
    "version": 3
   },
   "file_extension": ".py",
   "mimetype": "text/x-python",
   "name": "python",
   "nbconvert_exporter": "python",
   "pygments_lexer": "ipython3",
   "version": "3.8.16"
  },
  "orig_nbformat": 4,
  "vscode": {
   "interpreter": {
    "hash": "54a781ec3c8161ec609ee078cafb1d08036d2400844afbeebaf6ddda4e88ac3e"
   }
  }
 },
 "nbformat": 4,
 "nbformat_minor": 2
}
